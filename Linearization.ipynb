{
 "cells": [
  {
   "cell_type": "markdown",
   "metadata": {},
   "source": [
    "Calculate 1/a where a = e\n"
   ]
  },
  {
   "cell_type": "code",
   "execution_count": 10,
   "metadata": {},
   "outputs": [
    {
     "name": "stdout",
     "output_type": "stream",
     "text": [
      "0.5\n",
      "0.32042974999999996\n",
      "0.3617593875678636\n",
      "0.3677777361933474\n",
      "0.36787952511155414\n",
      "0.36787955329121386\n",
      "0.367879553291216\n"
     ]
    }
   ],
   "source": [
    "def newton(x_n,a):\n",
    "    return 2*x_n - a*x_n**2;\n",
    "\n",
    "a = 2.718281\n",
    "x_n = 0.5\n",
    "print(x_n)\n",
    "x_n = newton(x_n,a)\n",
    "print(x_n)\n",
    "x_n = newton(x_n,a)\n",
    "print(x_n)\n",
    "x_n = newton(x_n,a)\n",
    "print(x_n)\n",
    "x_n = newton(x_n,a)\n",
    "print(x_n)\n",
    "x_n = newton(x_n,a)\n",
    "print(x_n)\n",
    "x_n = newton(x_n,a)\n",
    "print(x_n)"
   ]
  },
  {
   "cell_type": "code",
   "execution_count": null,
   "metadata": {},
   "outputs": [],
   "source": []
  }
 ],
 "metadata": {
  "kernelspec": {
   "display_name": "Python 3",
   "language": "python",
   "name": "python3"
  },
  "language_info": {
   "codemirror_mode": {
    "name": "ipython",
    "version": 3
   },
   "file_extension": ".py",
   "mimetype": "text/x-python",
   "name": "python",
   "nbconvert_exporter": "python",
   "pygments_lexer": "ipython3",
   "version": "3.6.5"
  }
 },
 "nbformat": 4,
 "nbformat_minor": 2
}
