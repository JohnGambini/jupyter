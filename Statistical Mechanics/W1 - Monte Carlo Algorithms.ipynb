{
 "cells": [
  {
   "cell_type": "markdown",
   "metadata": {},
   "source": [
    "# Diret Sampling\n"
   ]
  },
  {
   "cell_type": "code",
   "execution_count": 1,
   "metadata": {},
   "outputs": [],
   "source": [
    "import matplotlib.pyplot as plt"
   ]
  },
  {
   "cell_type": "code",
   "execution_count": 2,
   "metadata": {},
   "outputs": [
    {
     "data": {
      "text/plain": [
       "<matplotlib.patches.Circle at 0x9fa4400>"
      ]
     },
     "execution_count": 2,
     "metadata": {},
     "output_type": "execute_result"
    },
    {
     "data": {
      "image/png": "[encoded data removed]",
      "text/plain": [
       "<Figure size 432x288 with 1 Axes>"
      ]
     },
     "metadata": {},
     "output_type": "display_data"
    }
   ],
   "source": [
    "circle1 = plt.Circle((0, 0), 1.0, color='r')\n",
    "\n",
    "fig, ax = plt.subplots() # note we must use plt.subplots, not plt.subplot\n",
    "# (or if you have an existing figure)\n",
    "# fig = plt.gcf()\n",
    "# ax = fig.gca()\n",
    "ax.set_xlim((-1, 1))\n",
    "ax.set_ylim((-1, 1))\n",
    "ax.set_aspect('equal')\n",
    "ax.add_artist(circle1)"
   ]
  },
  {
   "cell_type": "markdown",
   "metadata": {},
   "source": [
    "Throw pebbles into the square. Inside the square is a trial. Inside the circle is a hit.\n",
    "<p/>\n",
    "$ A_{square} = 4 $\n",
    "<p/>\n",
    "$ A_{circle} = \\pi r^2 = \\pi $\n",
    "<p/>\n",
    "$ A_{circle} / A_{square} = \\pi / 4 $\n",
    "<p/>\n",
    "Now imagine we have several trails. For example 3156 hits out of 4000 trials. As $N$ increases, the value of $4 \\times N_{hits} / N_{trials}$ will get closer and closer to $\\pi.$\n",
    "<p/>\n",
    "$ 4 \\times N_{hits} / N_{trials} = 3.156 \\approx \\pi $\n",
    "<p/>\n",
    "In the limit of an infinite number of trials the resilt will be $ \\pi $\n",
    "<p/>\n",
    "$ \\displaystyle \\lim_{N \\to \\infty} \\frac {4 \\times N_{hits}} {N_{trials}} = \\pi $\n",
    "\n"
   ]
  },
  {
   "cell_type": "code",
   "execution_count": 3,
   "metadata": {},
   "outputs": [
    {
     "name": "stdout",
     "output_type": "stream",
     "text": [
      "Ans: 3.1435\n"
     ]
    }
   ],
   "source": [
    "# direct_pi.py\n",
    "import random\n",
    "n_trials = 64000\n",
    "n_hits = 0\n",
    "for iter in range(n_trials):\n",
    "    x,y = random.uniform(-1.0,1.0), random.uniform(-1.0,1.0)\n",
    "    if x**2 + y**2 < 1.0:\n",
    "        n_hits += 1\n",
    "\n",
    "print(\"Ans: %s\" % (4.0 * n_hits / float(n_trials)))\n",
    "\n"
   ]
  },
  {
   "cell_type": "markdown",
   "metadata": {},
   "source": [
    "# 3x3 Pebble Game (Detailed Balance)\n"
   ]
  },
  {
   "cell_type": "markdown",
   "metadata": {},
   "source": [
    "<img style=\"float:right\" src=\"3x3Pebbles.png\"/>\n",
    "<b>Gobal Balance Condition (necessary and sufficient condition for monte carlo algorithm)</b>\n",
    "<p/>\n",
    "Let:\n",
    "<p/>\n",
    "$$ P(a \\to a) + P(a \\to b) + P(a \\to c) = 1 $$\n",
    "<p/>\n",
    "Let $ \\pi_a $ be the probability that the pebble is at position a and $ \\pi_b $ be the probability that the pebble is at position b and $ \\pi_c $ be the probability that the pebble is at position c and let the following equation be true:\n",
    "<p/>\n",
    "$$ \\pi_a \\cdot 1 = \\pi_a P(a \\to a) + \\pi_b P(b \\to a) + \\pi_c P(c \\to a) $$\n",
    "then:\n",
    "<p/>\n",
    "$$ \\pi_a ( P(a \\to a) + P(a \\to b) + P(a \\to c)) = \\pi_a P(a \\to a) + \\pi_b P(b \\to a) + \\pi_c P(c \\to a) $$\n",
    "<p/>\n",
    "Distributing $ \\pi_a $ on the left and cancelling like terms yields:\n",
    "<p/>\n",
    "$$ \\pi_a P(a \\to b) + \\pi_a P(a \\to c) = \\pi_b P(b \\to a) + \\pi_c P(c \\to a) $$\n",
    "<p/>\n",
    "This gives us the <b>Global balance condition</b> for the 3 x 3 pebble game shown to the right. \n",
    "<p/>\n",
    "One way of satisfying the global balance condition is to consider the transition $ a \\to b $:\n",
    "<p/>\n",
    "$$ \\pi_a P(a \\to b) = \\pi_b P(b \\to a) $$\n",
    "<p/>\n",
    "and the transition $ a \\to c $:\n",
    "<p/>\n",
    "$$ \\pi_a P(a \\to c) = \\pi_c P(c \\to a) $$\n",
    "<p/>\n",
    "seperatly. <b>This is the detailed balance condition.</b>\n",
    "<p/>\n",
    "From <a href=\"http://en.wikipedia.org/wiki/Balance_equation\" target=\"_blank\">Wikipedia:</a>\n",
    "<p/>\n",
    "<div width=\"80%\">\n",
    "The global balance equations (also known as full balance equations) are a set of equations that characterize the equilibrium distribution (or any stationary distribution) of a Markov chain, when such a distribution exists.\n",
    "\n",
    "For a continuous time Markov chain with state space S, transition rate from state i to j given by $ q_{ij} $ and equilibrium distribution given by $ \\displaystyle \\scriptstyle {\\pi } $, the global balance equations are given by\n",
    "<p/>\n",
    "$$ \\displaystyle \\pi _{i}=\\sum _{j\\in S}\\pi _{j}q_{ji} $$ \n",
    "or equivalently\n",
    "$$ \\displaystyle \\pi _{i}\\sum _{j\\in S\\setminus \\{i\\}}q_{ij}=\\sum _{j\\in S\\setminus \\{i\\}}\\pi _{j}q_{ji} $$\n",
    "<p/>\n",
    "for all i in S. Here $ \\displaystyle \\pi _{i}q_{ij} $ represents the probability flux from state i to state j. So the left-hand side represents the total flow from out of state i into states other than i, while the right-hand side represents the total flow out of all states $ \\displaystyle j\\neq i $ into state i. In general it is computationally intractable to solve this system of equations for most queueing models.\n",
    "</div>\n"
   ]
  },
  {
   "cell_type": "code",
   "execution_count": 4,
   "metadata": {},
   "outputs": [
    {
     "name": "stdout",
     "output_type": "stream",
     "text": [
      "8\n",
      "8\n",
      "5\n",
      "2\n",
      "1\n"
     ]
    }
   ],
   "source": [
    "#pebble_basic.py\n",
    "\n",
    "import random\n",
    "\n",
    "neighbor =  [[1, 3, 0, 0], [2, 4, 0, 1], [2, 5, 1, 2],\n",
    "             [4, 6, 3, 0], [5, 7, 3, 1], [5, 8, 4, 2],\n",
    "             [7, 6, 6, 3], [8, 7, 6, 4], [8, 8, 7, 5]]\n",
    "t_max = 4\n",
    "site = 8\n",
    "t = 0\n",
    "print (site)\n",
    "while t < t_max:\n",
    "    t += 1\n",
    "    site = neighbor[site][random.randint(0, 3)]\n",
    "    print ( \"%s\" % site)\n"
   ]
  },
  {
   "cell_type": "markdown",
   "metadata": {},
   "source": [
    "# The inhomogeneous pebble game and the Metropolis Algorithm"
   ]
  },
  {
   "cell_type": "markdown",
   "metadata": {},
   "source": [
    "<img style=\"float:right\" src=\"Inhomogeneous--pebbles.png\"/>\n",
    "In the previous example of the pebble game we moved into adjacent squares with equal probability. In this case $ \\pi_a = \\pi_b = \\pi_c $ and there for $ P(a\\to b) = P(b \\to a) $. In the inhomogeneous case the probability of moving into an adjacent square is conditioned further by an acceptance probability.\n",
    "<p/>\n",
    "In 1953 Metropolis et. al. proposed calculating the acceptance probability with the following rule:\n",
    "<p/>\n",
    "$$ P(a \\to b) = min \\left ( 1, \\frac {\\pi(b)} {\\pi(a)} \\right ) $$\n",
    "<p/>\n",
    "To illustrate this method, suppose we are in the upper right position (a) and we want to move to the top center position (b). We move there with a probability of $ min \\left ( 1, \\frac {0.5} {1.0} \\right ) = 1/2 $ or if we are in the middle left position and we want to move to the bottom left position, we move there with a probability of $ min \\left ( 1, \\frac {3.0}{0.5} \\right ) = 1 $.\n"
   ]
  },
  {
   "cell_type": "code",
   "execution_count": 5,
   "metadata": {},
   "outputs": [
    {
     "name": "stdout",
     "output_type": "stream",
     "text": [
      "comparison:  weight, histogram\n",
      "site:  0  weight:  3.0  histo:  0.300902\n",
      "site:  1  weight:  0.5  histo:  0.050366\n",
      "site:  2  weight:  1.0  histo:  0.100446\n",
      "site:  3  weight:  0.5  histo:  0.050002\n",
      "site:  4  weight:  1.0  histo:  0.099891\n",
      "site:  5  weight:  0.5  histo:  0.049715\n",
      "site:  6  weight:  2.0  histo:  0.199226\n",
      "site:  7  weight:  0.5  histo:  0.049619\n",
      "site:  8  weight:  1.0  histo:  0.099833\n"
     ]
    }
   ],
   "source": [
    "# pebble_basic_inhomogeneous.py\n",
    "\n",
    "import random\n",
    "\n",
    "histo = [0, 0, 0, 0, 0, 0, 0, 0, 0]\n",
    "neighbor =  [[1, 3, 0, 0], [2, 4, 0, 1], [2, 5, 1, 2],\n",
    "             [4, 6, 3, 0], [5, 7, 3, 1], [5, 8, 4, 2],\n",
    "             [7, 6, 6, 3], [8, 7, 6, 4], [8, 8, 7, 5]]\n",
    "weight = [3.0, 0.5, 1.0, 0.5, 1.0, 0.5, 2.0, 0.5, 1.0]\n",
    "pos = 8\n",
    "n_iter = 1000000\n",
    "for iter in range(n_iter):\n",
    "    new_pos = neighbor[pos][random.randint(0, 3)]\n",
    "    if random.random() < weight[new_pos] / weight[pos]:\n",
    "        pos = new_pos\n",
    "    histo[pos] += 1 \n",
    "\n",
    "norm = sum(weight)\n",
    "print ('comparison:  weight, histogram')\n",
    "for k in range(9): \n",
    "    print ('site: ', k,' weight: ', weight[k], ' histo: ', histo[k] / float(n_iter))\n"
   ]
  },
  {
   "cell_type": "markdown",
   "metadata": {},
   "source": [
    "# Convergence of the Markov Chain algorithms"
   ]
  },
  {
   "cell_type": "markdown",
   "metadata": {},
   "source": [
    "The convergence of Markov Chain Monte Carlo algorithms is exponential:\n",
    "<p/>\n",
    "$$ e^{-t/\\tau} $$\n",
    "<p/>\n",
    "where $ \\tau $ is the time scale parameter that characterizes the rate of convergence. It is on this time scale that we approach equilibrium; the pebble positions on the three by three pebble game become equally probable. That is, after a few times $\\tau$ a Markov Chain Monte Carlo algorithm is in equlibrium in the same way that after a few nuclear half lives a radio active compound has completely decayed. Let us now return to the 3 x 3 pebble game and understand its exponential convergence."
   ]
  },
  {
   "cell_type": "code",
   "execution_count": 8,
   "metadata": {},
   "outputs": [
    {
     "name": "stdout",
     "output_type": "stream",
     "text": [
      "[[0.1391625 0.42408   0.8397225]\n",
      " [0.        0.28458   0.420975 ]\n",
      " [0.        0.        0.14148  ]]\n",
      "[[0.06185 0.18848 0.37321]\n",
      " [0.      0.12648 0.1871 ]\n",
      " [0.      0.      0.06288]]\n"
     ]
    },
    {
     "data": {
      "image/png": "[encoded data removed]",
      "text/plain": [
       "<Figure size 432x288 with 2 Axes>"
      ]
     },
     "metadata": {},
     "output_type": "display_data"
    }
   ],
   "source": [
    "# pebble_multirun_histogram.py\n",
    "\n",
    "import random\n",
    "import numpy as np\n",
    "import matplotlib.pyplot as plt\n",
    "\n",
    "xvec = {1:3, 2:2, 3:1, 4:3, 5:2, 6:1, 7:3, 8:2, 9:1} \n",
    "yvec = {1:1, 2:1, 3:1, 4:2, 5:2, 6:2, 7:3, 8:3, 9:3} \n",
    "\n",
    "neighbor = {1 : [2, 4, 1, 1], 2 : [3, 5, 1, 2], 3 : [3, 6, 2, 3],\n",
    "            4 : [5, 7, 4, 1], 5 : [6, 8, 4, 2], 6 : [6, 9, 5, 3],\n",
    "            7 : [8, 7, 7, 4], 8 : [9, 8, 7, 5], 9 : [9, 9, 8, 6]}\n",
    "\n",
    "list_vec = []\n",
    "run = 2\n",
    "if run < 10:  run_str= '0' + str(run)\n",
    "else: run_str = str(run)\n",
    "for n_runs in range(100000): \n",
    "    pos = 9\n",
    "    for iter in range(run):\n",
    "        pos = neighbor[pos][ random.randint(0, 3)]\n",
    "    list_vec.append(pos)\n",
    "\n",
    "x = [xvec[k] for k in list_vec]\n",
    "y = [yvec[k] for k in list_vec]\n",
    "\n",
    "plt.xticks([])\n",
    "plt.yticks([])\n",
    "H, xedges, yedges = np.histogram2d(x, y, bins=(3, 3), \n",
    "           range=[[1,3],[1,3]], normed=True)\n",
    "print (H)\n",
    "H /= np.sum(H)\n",
    "print (H)\n",
    "extent = [yedges[0], yedges[-1], xedges[-1], xedges[0]]\n",
    "plt.imshow(H, extent=extent, interpolation='nearest', vmin=0.0, vmax=1.0)\n",
    "plt.set_cmap('hot')\n",
    "plt.colorbar()\n",
    "plt.title('t = '+str(run),fontsize=22)\n",
    "plt.savefig('3x3_pebble_run_'+run_str+'.png')\n",
    "plt.show()\n"
   ]
  },
  {
   "cell_type": "markdown",
   "metadata": {},
   "source": [
    "# Exponential Convergence and the 3 x 3 Pebble Game"
   ]
  },
  {
   "cell_type": "markdown",
   "metadata": {},
   "source": [
    "In order to compute the exact probabilities at all time steps we need to introduce a vector:\n",
    "<p/>\n",
    "$$ \\pi_t \\equiv \\left ( \\begin{matrix} \\pi_0^t \\\\ \\pi_1^t  \\\\ \\pi_2^t \\\\ \\dots  \\\\ \\pi_8^t \\end{matrix} \\right ) $$\n",
    "<p/>\n",
    "which contains the probabilities to find the pebble at time $t$ for each site.\n",
    "<p/>\n",
    "The Monte Carlo Algorithm is nothing but a matrix; a transfer matrix of transaction probabilities $p(a\\to b)$ for moving from the site $a$ to the site $b$.\n",
    "<p/>\n",
    "In the 3 x 3 pebble game the matrix is a 9x9 because there are 9 configurations:\n",
    "<p/>\n",
    "$$ \\left [ \\begin{matrix} p(0 \\to 0) & p(0 \\to 1) & \\dots & p(0 \\to 8) \\\\  p(1 \\to 0) & p(1 \\to 1) & \\dots &  p(1 \\to 8) \\\\ p(2 \\to 0) & p(2 \\to 1) & \\cdots &  p(2 \\to 8) \\\\ \\dots & \\dots & \\dots & \\dots \\\\ p(8 \\to 0) & p(8 \\to 1) & \\cdots &  p(8 \\to 8) \\end{matrix} \\right ] $$\n",
    "<p/>\n",
    "Given that each move has a 1/4 probability of moving up, down, left, or right, and given that moves off the grid are counted as a 1/4 probability of staying put, let's calculate the values of the grid:\n",
    "<p/>\n",
    "$$ \\frac 1 4 \\left [ \\begin{matrix} \n",
    "2 & 1 & 0 & 1 & 0 & 0 & 0 & 0 & 0 \\\\\n",
    "1 & 1 & 1 & 0 & 1 & 0 & 0 & 0 & 0 \\\\\n",
    "0 & 1 & 2 & 0 & 0 & 1 & 0 & 0 & 0 \\\\\n",
    "1 & 0 & 0 & 1 & 1 & 0 & 1 & 0 & 0 \\\\\n",
    "0 & 1 & 0 & 1 & 0 & 1 & 0 & 1 & 0 \\\\\n",
    "0 & 0 & 1 & 0 & 1 & 1 & 0 & 0 & 1 \\\\\n",
    "0 & 0 & 0 & 1 & 0 & 0 & 2 & 1 & 0 \\\\\n",
    "0 & 0 & 0 & 0 & 1 & 0 & 1 & 1 & 1 \\\\\n",
    "0 & 0 & 0 & 0 & 0 & 1 & 0 & 1 & 2 \n",
    "\\end{matrix} \\right ] $$\n",
    "<p/>\n",
    "Realize that the probability vector at time $t+1$ is the dot product between the trasfer matrix and the probability vector at time $t$.\n",
    "<p/>\n"
   ]
  },
  {
   "cell_type": "code",
   "execution_count": 9,
   "metadata": {},
   "outputs": [
    {
     "name": "stdout",
     "output_type": "stream",
     "text": [
      " 0    ['0.00000', '0.00000', '0.00000', '0.00000', '0.00000', '0.00000', '0.00000', '0.00000', '1.00000']\n",
      " 1    ['0.00000', '0.00000', '0.00000', '0.00000', '0.00000', '0.25000', '0.00000', '0.25000', '0.50000']\n",
      " 2    ['0.00000', '0.00000', '0.06250', '0.00000', '0.12500', '0.18750', '0.06250', '0.18750', '0.37500']\n",
      " 3    ['0.00000', '0.04688', '0.07812', '0.04688', '0.09375', '0.18750', '0.07812', '0.18750', '0.28125']\n",
      " 4    ['0.02344', '0.05469', '0.09766', '0.05469', '0.11719', '0.16016', '0.09766', '0.16016', '0.23438']\n",
      " 5    ['0.03906', '0.07324', '0.10254', '0.07324', '0.10742', '0.15234', '0.10254', '0.15234', '0.19727']\n",
      " 6    ['0.05615', '0.08057', '0.10767', '0.08057', '0.11279', '0.13989', '0.10767', '0.13989', '0.17480']\n",
      " 7    ['0.06836', '0.08929', '0.10895', '0.08929', '0.11023', '0.13379', '0.10895', '0.13379', '0.15735']\n",
      " 8    ['0.07883', '0.09421', '0.11024', '0.09421', '0.11154', '0.12758', '0.11024', '0.12758', '0.14557']\n",
      " 9    ['0.08652', '0.09871', '0.11057', '0.09871', '0.11089', '0.12373', '0.11057', '0.12373', '0.13657']\n",
      "10    ['0.09261', '0.10167', '0.11089', '0.10167', '0.11122', '0.12044', '0.11089', '0.12044', '0.13015']\n",
      "11    ['0.09714', '0.10410', '0.11098', '0.10410', '0.11106', '0.11818', '0.11098', '0.11818', '0.12530']\n",
      "12    ['0.10062', '0.10582', '0.11106', '0.10582', '0.11114', '0.11638', '0.11106', '0.11638', '0.12174']\n",
      "13    ['0.10322', '0.10716', '0.11108', '0.10716', '0.11110', '0.11508', '0.11108', '0.11508', '0.11906']\n",
      "14    ['0.10519', '0.10814', '0.11110', '0.10814', '0.11112', '0.11408', '0.11110', '0.11408', '0.11707']\n",
      "15    ['0.10666', '0.10889', '0.11110', '0.10889', '0.11111', '0.11334', '0.11110', '0.11334', '0.11557']\n",
      "16    ['0.10777', '0.10944', '0.11111', '0.10944', '0.11111', '0.11278', '0.11111', '0.11278', '0.11446']\n",
      "17    ['0.10861', '0.10986', '0.11111', '0.10986', '0.11111', '0.11236', '0.11111', '0.11236', '0.11362']\n",
      "18    ['0.10923', '0.11017', '0.11111', '0.11017', '0.11111', '0.11205', '0.11111', '0.11205', '0.11299']\n",
      "19    ['0.10970', '0.11041', '0.11111', '0.11041', '0.11111', '0.11182', '0.11111', '0.11182', '0.11252']\n",
      "20    ['0.11005', '0.11058', '0.11111', '0.11058', '0.11111', '0.11164', '0.11111', '0.11164', '0.11217']\n",
      "21    ['0.11032', '0.11071', '0.11111', '0.11071', '0.11111', '0.11151', '0.11111', '0.11151', '0.11190']\n",
      "22    ['0.11052', '0.11081', '0.11111', '0.11081', '0.11111', '0.11141', '0.11111', '0.11141', '0.11171']\n",
      "23    ['0.11067', '0.11089', '0.11111', '0.11089', '0.11111', '0.11133', '0.11111', '0.11133', '0.11156']\n",
      "24    ['0.11078', '0.11094', '0.11111', '0.11094', '0.11111', '0.11128', '0.11111', '0.11128', '0.11145']\n",
      "25    ['0.11086', '0.11099', '0.11111', '0.11099', '0.11111', '0.11124', '0.11111', '0.11124', '0.11136']\n",
      "26    ['0.11092', '0.11102', '0.11111', '0.11102', '0.11111', '0.11121', '0.11111', '0.11121', '0.11130']\n",
      "27    ['0.11097', '0.11104', '0.11111', '0.11104', '0.11111', '0.11118', '0.11111', '0.11118', '0.11125']\n",
      "28    ['0.11101', '0.11106', '0.11111', '0.11106', '0.11111', '0.11116', '0.11111', '0.11116', '0.11122']\n",
      "29    ['0.11103', '0.11107', '0.11111', '0.11107', '0.11111', '0.11115', '0.11111', '0.11115', '0.11119']\n",
      "30    ['0.11105', '0.11108', '0.11111', '0.11108', '0.11111', '0.11114', '0.11111', '0.11114', '0.11117']\n",
      "31    ['0.11107', '0.11109', '0.11111', '0.11109', '0.11111', '0.11113', '0.11111', '0.11113', '0.11116']\n",
      "32    ['0.11108', '0.11109', '0.11111', '0.11109', '0.11111', '0.11113', '0.11111', '0.11113', '0.11114']\n",
      "33    ['0.11109', '0.11110', '0.11111', '0.11110', '0.11111', '0.11112', '0.11111', '0.11112', '0.11114']\n",
      "34    ['0.11109', '0.11110', '0.11111', '0.11110', '0.11111', '0.11112', '0.11111', '0.11112', '0.11113']\n",
      "35    ['0.11110', '0.11110', '0.11111', '0.11110', '0.11111', '0.11112', '0.11111', '0.11112', '0.11113']\n",
      "36    ['0.11110', '0.11111', '0.11111', '0.11111', '0.11111', '0.11112', '0.11111', '0.11112', '0.11112']\n",
      "37    ['0.11110', '0.11111', '0.11111', '0.11111', '0.11111', '0.11112', '0.11111', '0.11112', '0.11112']\n",
      "38    ['0.11111', '0.11111', '0.11111', '0.11111', '0.11111', '0.11111', '0.11111', '0.11111', '0.11112']\n",
      "39    ['0.11111', '0.11111', '0.11111', '0.11111', '0.11111', '0.11111', '0.11111', '0.11111', '0.11112']\n",
      "40    ['0.11111', '0.11111', '0.11111', '0.11111', '0.11111', '0.11111', '0.11111', '0.11111', '0.11111']\n",
      "41    ['0.11111', '0.11111', '0.11111', '0.11111', '0.11111', '0.11111', '0.11111', '0.11111', '0.11111']\n",
      "42    ['0.11111', '0.11111', '0.11111', '0.11111', '0.11111', '0.11111', '0.11111', '0.11111', '0.11111']\n",
      "43    ['0.11111', '0.11111', '0.11111', '0.11111', '0.11111', '0.11111', '0.11111', '0.11111', '0.11111']\n",
      "44    ['0.11111', '0.11111', '0.11111', '0.11111', '0.11111', '0.11111', '0.11111', '0.11111', '0.11111']\n",
      "45    ['0.11111', '0.11111', '0.11111', '0.11111', '0.11111', '0.11111', '0.11111', '0.11111', '0.11111']\n",
      "46    ['0.11111', '0.11111', '0.11111', '0.11111', '0.11111', '0.11111', '0.11111', '0.11111', '0.11111']\n",
      "47    ['0.11111', '0.11111', '0.11111', '0.11111', '0.11111', '0.11111', '0.11111', '0.11111', '0.11111']\n",
      "48    ['0.11111', '0.11111', '0.11111', '0.11111', '0.11111', '0.11111', '0.11111', '0.11111', '0.11111']\n",
      "49    ['0.11111', '0.11111', '0.11111', '0.11111', '0.11111', '0.11111', '0.11111', '0.11111', '0.11111']\n"
     ]
    }
   ],
   "source": [
    "# pebble_transfer.py\n",
    "import numpy\n",
    "\n",
    "neighbor =  [[1, 3, 0, 0], [2, 4, 0, 1], [2, 5, 1, 2],\n",
    "             [4, 6, 3, 0], [5, 7, 3, 1], [5, 8, 4, 2],\n",
    "             [7, 6, 6, 3], [8, 7, 6, 4], [8, 8, 7, 5]]\n",
    "transfer = numpy.zeros((9, 9))\n",
    "for k in range(9):\n",
    "    for neigh in range(4): \n",
    "        transfer[neighbor[k][neigh], k] += 0.25\n",
    "        \n",
    "#print(transfer)        \n",
    "        \n",
    "position = numpy.zeros(9)\n",
    "position[8] = 1.0\n",
    "for t in range(50):\n",
    "    print(\"%2d\" % t,'  ',[\"%0.5f\" % i for i in position])\n",
    "    position = numpy.dot(transfer, position)\n"
   ]
  },
  {
   "cell_type": "markdown",
   "metadata": {},
   "source": [
    "The probability vector remains unchanged by the transfer matrix transformation after reaching equilibrium. Notice that the probability vector converges to 0.11111 for all entries after fewer than 50 iterations. This means that the equilibrium vector is an eigenvector of the transfer matrix with eigenvalue of 1. Since the transfer matrix is square and invertable, e.i dim = n, there are nine dimensions and therefore nine eigenvectors. The eigenvector with the eigenvalue 1 is the largest eigenvector. The second largest eigenvector has an eigenvalue of 0.75. Let's see what that one is good for.  "
   ]
  },
  {
   "cell_type": "code",
   "execution_count": 10,
   "metadata": {},
   "outputs": [
    {
     "name": "stdout",
     "output_type": "stream",
     "text": [
      "[-5.00000000e-01  1.00000000e+00  5.00000000e-01  7.50000000e-01\n",
      "  7.50000000e-01 -2.13981377e-16  8.30400017e-17  2.50000000e-01\n",
      "  2.50000000e-01]\n"
     ]
    }
   ],
   "source": [
    "# pebble_transfer_eigen.py\n",
    "import numpy\n",
    " \n",
    "neighbor =  [[1, 3, 0, 0], [2, 4, 0, 1], [2, 5, 1, 2],\n",
    "             [4, 6, 3, 0], [5, 7, 3, 1], [5, 8, 4, 2],\n",
    "             [7, 6, 6, 3], [8, 7, 6, 4], [8, 8, 7, 5]]\n",
    "transfer = numpy.zeros((9, 9))\n",
    "for k in range(9):\n",
    "    for neigh in range(4): transfer[neighbor[k][neigh], k] += 0.25\n",
    "eigenvalues, eigenvectors = numpy.linalg.eig(transfer)\n",
    "print(eigenvalues)\n",
    "  \n",
    "# you may print the eigenvectors by uncommenting the following lines...\n",
    "#for iter in range(9):\n",
    "#    print (eigenvalues[iter])\n",
    "#    for i in range(9):\n",
    "#        print(eigenvectors[i][iter])\n",
    "\n"
   ]
  },
  {
   "cell_type": "markdown",
   "metadata": {},
   "source": [
    "Consider again the output of pebbel_transfer.py where we find the probability to reach any site starting from the upper right corner. Now subtract the equilibrium vector from each entry and take the absolute value. The output is the difference between the value of the probability vector and the equilibrium vectors. Within less than 50 iterations, the output will consistantly be the zero vector. Now we put the otput for site 0 (zero) in the semilog scale. That is, we plot site zero's convergence to the equilibrium vector."
   ]
  },
  {
   "cell_type": "code",
   "execution_count": 12,
   "metadata": {},
   "outputs": [
    {
     "name": "stdout",
     "output_type": "stream",
     "text": [
      " 0    ['0.11111', '0.11111', '0.11111', '0.11111', '0.11111', '0.11111', '0.11111', '0.11111', '0.88889']\n",
      " 1    ['0.11111', '0.11111', '0.11111', '0.11111', '0.11111', '0.13889', '0.11111', '0.13889', '0.38889']\n",
      " 2    ['0.11111', '0.11111', '0.04861', '0.11111', '0.01389', '0.07639', '0.04861', '0.07639', '0.26389']\n",
      " 3    ['0.11111', '0.06424', '0.03299', '0.06424', '0.01736', '0.07639', '0.03299', '0.07639', '0.17014']\n",
      " 4    ['0.08767', '0.05642', '0.01345', '0.05642', '0.00608', '0.04905', '0.01345', '0.04905', '0.12326']\n",
      " 5    ['0.07205', '0.03787', '0.00857', '0.03787', '0.00369', '0.04123', '0.00857', '0.04123', '0.08615']\n",
      " 6    ['0.05496', '0.03054', '0.00345', '0.03054', '0.00168', '0.02878', '0.00345', '0.02878', '0.06369']\n",
      " 7    ['0.04275', '0.02182', '0.00216', '0.02182', '0.00088', '0.02268', '0.00216', '0.02268', '0.04624']\n",
      " 8    ['0.03228', '0.01690', '0.00087', '0.01690', '0.00043', '0.01647', '0.00087', '0.01647', '0.03446']\n",
      " 9    ['0.02459', '0.01241', '0.00054', '0.01241', '0.00022', '0.01262', '0.00054', '0.01262', '0.02546']\n",
      "10    ['0.01850', '0.00944', '0.00022', '0.00944', '0.00011', '0.00933', '0.00022', '0.00933', '0.01904']\n",
      "11    ['0.01397', '0.00701', '0.00014', '0.00701', '0.00005', '0.00707', '0.00014', '0.00707', '0.01419']\n",
      "12    ['0.01049', '0.00529', '0.00005', '0.00529', '0.00003', '0.00527', '0.00005', '0.00527', '0.01063']\n",
      "13    ['0.00789', '0.00395', '0.00003', '0.00395', '0.00001', '0.00397', '0.00003', '0.00397', '0.00795']\n",
      "14    ['0.00592', '0.00297', '0.00001', '0.00297', '0.00001', '0.00297', '0.00001', '0.00297', '0.00596']\n",
      "15    ['0.00445', '0.00223', '0.00001', '0.00223', '0.00000', '0.00223', '0.00001', '0.00223', '0.00446']\n",
      "16    ['0.00334', '0.00167', '0.00000', '0.00167', '0.00000', '0.00167', '0.00000', '0.00167', '0.00335']\n",
      "17    ['0.00250', '0.00125', '0.00000', '0.00125', '0.00000', '0.00125', '0.00000', '0.00125', '0.00251']\n",
      "18    ['0.00188', '0.00094', '0.00000', '0.00094', '0.00000', '0.00094', '0.00000', '0.00094', '0.00188']\n",
      "19    ['0.00141', '0.00070', '0.00000', '0.00070', '0.00000', '0.00070', '0.00000', '0.00070', '0.00141']\n",
      "20    ['0.00106', '0.00053', '0.00000', '0.00053', '0.00000', '0.00053', '0.00000', '0.00053', '0.00106']\n",
      "21    ['0.00079', '0.00040', '0.00000', '0.00040', '0.00000', '0.00040', '0.00000', '0.00040', '0.00079']\n",
      "22    ['0.00059', '0.00030', '0.00000', '0.00030', '0.00000', '0.00030', '0.00000', '0.00030', '0.00059']\n",
      "23    ['0.00045', '0.00022', '0.00000', '0.00022', '0.00000', '0.00022', '0.00000', '0.00022', '0.00045']\n",
      "24    ['0.00033', '0.00017', '0.00000', '0.00017', '0.00000', '0.00017', '0.00000', '0.00017', '0.00033']\n",
      "25    ['0.00025', '0.00013', '0.00000', '0.00013', '0.00000', '0.00013', '0.00000', '0.00013', '0.00025']\n",
      "26    ['0.00019', '0.00009', '0.00000', '0.00009', '0.00000', '0.00009', '0.00000', '0.00009', '0.00019']\n",
      "27    ['0.00014', '0.00007', '0.00000', '0.00007', '0.00000', '0.00007', '0.00000', '0.00007', '0.00014']\n",
      "28    ['0.00011', '0.00005', '0.00000', '0.00005', '0.00000', '0.00005', '0.00000', '0.00005', '0.00011']\n",
      "29    ['0.00008', '0.00004', '0.00000', '0.00004', '0.00000', '0.00004', '0.00000', '0.00004', '0.00008']\n",
      "30    ['0.00006', '0.00003', '0.00000', '0.00003', '0.00000', '0.00003', '0.00000', '0.00003', '0.00006']\n",
      "31    ['0.00004', '0.00002', '0.00000', '0.00002', '0.00000', '0.00002', '0.00000', '0.00002', '0.00004']\n",
      "32    ['0.00003', '0.00002', '0.00000', '0.00002', '0.00000', '0.00002', '0.00000', '0.00002', '0.00003']\n",
      "33    ['0.00003', '0.00001', '0.00000', '0.00001', '0.00000', '0.00001', '0.00000', '0.00001', '0.00003']\n",
      "34    ['0.00002', '0.00001', '0.00000', '0.00001', '0.00000', '0.00001', '0.00000', '0.00001', '0.00002']\n",
      "35    ['0.00001', '0.00001', '0.00000', '0.00001', '0.00000', '0.00001', '0.00000', '0.00001', '0.00001']\n",
      "36    ['0.00001', '0.00001', '0.00000', '0.00001', '0.00000', '0.00001', '0.00000', '0.00001', '0.00001']\n",
      "37    ['0.00001', '0.00000', '0.00000', '0.00000', '0.00000', '0.00000', '0.00000', '0.00000', '0.00001']\n",
      "38    ['0.00001', '0.00000', '0.00000', '0.00000', '0.00000', '0.00000', '0.00000', '0.00000', '0.00001']\n",
      "39    ['0.00000', '0.00000', '0.00000', '0.00000', '0.00000', '0.00000', '0.00000', '0.00000', '0.00000']\n",
      "40    ['0.00000', '0.00000', '0.00000', '0.00000', '0.00000', '0.00000', '0.00000', '0.00000', '0.00000']\n",
      "41    ['0.00000', '0.00000', '0.00000', '0.00000', '0.00000', '0.00000', '0.00000', '0.00000', '0.00000']\n",
      "42    ['0.00000', '0.00000', '0.00000', '0.00000', '0.00000', '0.00000', '0.00000', '0.00000', '0.00000']\n",
      "43    ['0.00000', '0.00000', '0.00000', '0.00000', '0.00000', '0.00000', '0.00000', '0.00000', '0.00000']\n",
      "44    ['0.00000', '0.00000', '0.00000', '0.00000', '0.00000', '0.00000', '0.00000', '0.00000', '0.00000']\n",
      "45    ['0.00000', '0.00000', '0.00000', '0.00000', '0.00000', '0.00000', '0.00000', '0.00000', '0.00000']\n",
      "46    ['0.00000', '0.00000', '0.00000', '0.00000', '0.00000', '0.00000', '0.00000', '0.00000', '0.00000']\n",
      "47    ['0.00000', '0.00000', '0.00000', '0.00000', '0.00000', '0.00000', '0.00000', '0.00000', '0.00000']\n",
      "48    ['0.00000', '0.00000', '0.00000', '0.00000', '0.00000', '0.00000', '0.00000', '0.00000', '0.00000']\n",
      "49    ['0.00000', '0.00000', '0.00000', '0.00000', '0.00000', '0.00000', '0.00000', '0.00000', '0.00000']\n"
     ]
    }
   ],
   "source": [
    "# pebble_transfer_sub.py\n",
    "import numpy\n",
    "\n",
    "neighbor =  [[1, 3, 0, 0], [2, 4, 0, 1], [2, 5, 1, 2],\n",
    "             [4, 6, 3, 0], [5, 7, 3, 1], [5, 8, 4, 2],\n",
    "             [7, 6, 6, 3], [8, 7, 6, 4], [8, 8, 7, 5]]\n",
    "transfer = numpy.zeros((9, 9))\n",
    "for k in range(9):\n",
    "    for neigh in range(4): transfer[neighbor[k][neigh], k] += 0.25\n",
    "position = numpy.zeros(9)\n",
    "position[8] = 1.0\n",
    "for t in range(50):\n",
    "    print( \"%2d\" % t,'  ',[\"%0.5f\" % abs(i- 1.0 / 9.0) for i in position])\n",
    "    position = numpy.dot(transfer, position)\n"
   ]
  },
  {
   "cell_type": "code",
   "execution_count": 22,
   "metadata": {},
   "outputs": [
    {
     "data": {
      "image/png": "[encoded data removed]",
      "text/plain": [
       "<Figure size 432x288 with 1 Axes>"
      ]
     },
     "metadata": {},
     "output_type": "display_data"
    }
   ],
   "source": [
    "import numpy, random, math, pylab\n",
    "\n",
    "neighbor =  [[1, 3, 0, 0], [2, 4, 0, 1], [2, 5, 1, 2],\n",
    "             [4, 6, 3, 0], [5, 7, 3, 1], [5, 8, 4, 2],\n",
    "             [7, 6, 6, 3], [8, 7, 6, 4], [8, 8, 7, 5]]\n",
    "transfer = numpy.zeros((9, 9))\n",
    "for k in range(9):\n",
    "    for neigh in range(4): \n",
    "        transfer[neighbor[k][neigh], k] += 0.25\n",
    "\n",
    "position = numpy.zeros(9)\n",
    "position[8] = 1.0\n",
    "n_trials = []\n",
    "site0 = []\n",
    "\n",
    "for t in range(50):\n",
    "    #print(\"%2d\" % t,'  ',[\"%0.5f\" % i for i in position])\n",
    "    site0.append( abs(position[0] - 1/9) )\n",
    "    n_trials.append(t)\n",
    "    position = numpy.dot(transfer, position)\n",
    "\n",
    "\n",
    "pylab.plot(n_trials, site0)\n",
    "pylab.yscale('log')\n",
    "pylab.xlabel('number of trials')\n",
    "pylab.ylabel('deviation from 1/9')\n",
    "pylab.title('Sampling of pi: deviation from equilibrium vs. n_trials')\n",
    "pylab.savefig('sampling_deviation_line.png')\n",
    "pylab.show()"
   ]
  },
  {
   "cell_type": "markdown",
   "metadata": {},
   "source": [
    "The straight line indicates an exponential convergence to equilibrium. The slope of the line is $ 0.75^t$.\n",
    "<p/>\n",
    "$ 0.75^t = e^{-t \\cdot | ln 0.75 |} $ or $ e^{-t/\\tau} $ where $\\tau$ = 3.476. This is the correlation time.\n",
    "<p/>\n",
    "After a few correlation times (4 or 5) the equilibrium is reached.\n",
    "<p/>\n",
    "To understand these observations we remark that the initial probability vectors can be written as the composite of the eigenvectors of the transfer matrix. The component associated with the eigenvalue 1 is conserved over time because 1^t = 1. The other components associated with the other eigenvaules decay exponentially. The slowest decay is given by the second largest eigenvalue."
   ]
  },
  {
   "cell_type": "markdown",
   "metadata": {},
   "source": [
    "## Irreducibility and aperiodicity in the Markov Chain"
   ]
  },
  {
   "cell_type": "markdown",
   "metadata": {},
   "source": [
    "The evolution of Monte Carlo dynamics is determined by the decomposition of the probability vector at the initial time into the eigenvalues of the transfer matrix.\n",
    "<p/>\n",
    "$$ \\pi^0 = 1 \\times V_1 + \\lambda_2 \\times V_2 + ... $$\n",
    "$$ \\pi^t = 1 \\times V_1 + \\lambda_2^t \\times V_2 + ... $$\n",
    "<p/>\n",
    "\n",
    "All eigenvalues have vaules less than or equal to 1. At large times the dynamics converge to the eigenvector with the largest eigenvector. We call this the probability vector of the equilibrium state or <em>steady state</em>. When does this picture apply? What are the rigorous mathematical conditions ensuring that it converges to a unique steady state at the time of convergence? \n"
   ]
  },
  {
   "cell_type": "markdown",
   "metadata": {},
   "source": [
    "<img style=\"float:right;max-width:392px;margin:1em 2em\" src=\"double_pebble.png\"/>\n",
    "Consider a system with two copies of the three by three pebble game. This system is described by an 18 x 18 matrix."
   ]
  },
  {
   "cell_type": "markdown",
   "metadata": {},
   "source": [
    "## Week 1 Peer Reviewed Assignment"
   ]
  },
  {
   "cell_type": "code",
   "execution_count": 13,
   "metadata": {
    "scrolled": true
   },
   "outputs": [
    {
     "name": "stdout",
     "output_type": "stream",
     "text": [
      "[0.4102474626660326, 0.3074829741971082, 0.20327641847231329, 0.15476059395071218, 0.09971579105526848, 0.0750331436145488, 0.04829561633999611, 0.03638185811487253, 0.026649230577082846]\n"
     ]
    },
    {
     "data": {
      "image/png": "[encoded data removed]",
      "text/plain": [
       "<Figure size 432x288 with 1 Axes>"
      ]
     },
     "metadata": {},
     "output_type": "display_data"
    }
   ],
   "source": [
    "# direct sampling rms deviation\n",
    "\n",
    "import random, math, pylab\n",
    "\n",
    "def direct_pi(N):\n",
    "    n_hits = 0\n",
    "    for i in range(N):\n",
    "        x, y = random.uniform(-1.0, 1.0), random.uniform(-1.0, 1.0)\n",
    "        if x ** 2 + y ** 2 < 1.0:\n",
    "            n_hits += 1\n",
    "    return n_hits\n",
    "\n",
    "n_runs = 500\n",
    "n_trials_list = []\n",
    "sigmasqs = []\n",
    "for poweroftwo in range(4, 13):\n",
    "    n_trials = 2 ** poweroftwo\n",
    "    sigmasq = 0.0\n",
    "    for run in range(n_runs):\n",
    "        pi_est = 4.0 * direct_pi(n_trials) / float(n_trials)\n",
    "        sigmasq += (pi_est - math.pi) ** 2\n",
    "    sigmasqs.append(math.sqrt(sigmasq/(n_runs)))\n",
    "    n_trials_list.append(n_trials)\n",
    "\n",
    "print(sigmasqs)    \n",
    "    \n",
    "pylab.plot(n_trials_list, sigmasqs, 'o')\n",
    "pylab.plot([0.01, 10000.0], [1.642 / math.sqrt(0.01), 1.642 / math.sqrt(10000.0)])\n",
    "pylab.plot([0.01, 10000.0], [2.642 / math.sqrt(0.01), 2.642 / math.sqrt(10000.0)])\n",
    "pylab.plot([0.01, 10000.0], [1 / math.sqrt(0.01), 1 / math.sqrt(10000.0)])\n",
    "pylab.xscale('log')\n",
    "pylab.yscale('log')\n",
    "pylab.xlabel('number of trials')\n",
    "pylab.ylabel('root mean square deviation')\n",
    "pylab.title('Direct sampling of pi: root mean square deviation vs. n_trials')\n",
    "pylab.savefig('direct_sampling_rms_deviation_line.png')\n",
    "pylab.show()"
   ]
  },
  {
   "cell_type": "code",
   "execution_count": 22,
   "metadata": {},
   "outputs": [
    {
     "data": {
      "image/png": "[encoded data removed]",
      "text/plain": [
       "<Figure size 432x288 with 1 Axes>"
      ]
     },
     "metadata": {},
     "output_type": "display_data"
    }
   ],
   "source": [
    "# Markov Chain rms sampling\n",
    "\n",
    "import random, math, pylab\n",
    "\n",
    "def markov_pi(N, delta):\n",
    "    x, y = 1.0, 1.0\n",
    "    n_hits = 0\n",
    "    for i in range(N):\n",
    "        del_x, del_y = random.uniform(-delta, delta), random.uniform(-delta, delta)\n",
    "        if abs(x + del_x) < 1.0 and abs(y + del_y) < 1.0:\n",
    "            x, y = x + del_x, y + del_y\n",
    "        if x**2 + y**2 < 1.0: n_hits += 1\n",
    "    return n_hits\n",
    "\n",
    "n_runs = 500\n",
    "for delta in [0.062, 0.125, 0.25, 0.5, 1.0, 2.0, 4.0]:\n",
    "    n_trials_list = []\n",
    "    sigmas = []\n",
    "    for poweroftwo in range(4, 13):\n",
    "        n_trials = 2 ** poweroftwo\n",
    "        sigma = 0.0\n",
    "        for run in range(n_runs):\n",
    "            pi_est = 4.0 * markov_pi(n_trials, delta) / float(n_trials)\n",
    "            sigma += (pi_est - math.pi) ** 2\n",
    "        sigmas.append(math.sqrt(sigma/(n_runs)))\n",
    "        n_trials_list.append(n_trials)\n",
    "    pylab.plot(n_trials_list, sigmas, 'o', ms = 8, label = '$\\delta = $' + str(delta))\n",
    "\n",
    "pylab.xscale('log')\n",
    "pylab.yscale('log')\n",
    "pylab.xlabel('number of trials')\n",
    "pylab.ylabel('root mean square deviation')\n",
    "pylab.plot([10,10000],[1.642 / math.sqrt(10.0), 1.642 / math.sqrt(10000.0)], label = 'direct')\n",
    "pylab.title('Markov-chain sampling of pi: root mean square deviation vs. n_trials')\n",
    "pylab.legend(loc='upper right')\n",
    "pylab.savefig('markov_sampling_rms_deviation.png')\n",
    "pylab.show()"
   ]
  },
  {
   "cell_type": "code",
   "execution_count": 50,
   "metadata": {},
   "outputs": [
    {
     "name": "stdout",
     "output_type": "stream",
     "text": [
      "3.1372 1.6452341643089723\n",
      "3.1372 12.5488 2.7067761600000004 1.6452283002671697\n"
     ]
    }
   ],
   "source": [
    "import random, math\n",
    "n_trials = 400000\n",
    "n_hits = 0\n",
    "var = 0.0\n",
    "Obs1 = 0.0\n",
    "Obs2 = 0.0\n",
    "for iter in range(n_trials):\n",
    "    x, y = random.uniform(-1.0, 1.0), random.uniform(-1.0, 1.0)\n",
    "    Obs = 0.0\n",
    "    if x**2 + y**2 < 1.0:\n",
    "        n_hits += 1\n",
    "        Obs = 4.0\n",
    "        Obs1 += 4.0\n",
    "        Obs2 += 16.0\n",
    "    var += (Obs - math.pi)**2\n",
    "print (4.0 * n_hits / float(n_trials), math.sqrt(var / n_trials))\n",
    "print (Obs1/n_trials, Obs2/n_trials, Obs2/n_trials - (Obs1/n_trials)**2, math.sqrt(Obs2/n_trials - (Obs1/n_trials)**2))\n"
   ]
  },
  {
   "cell_type": "code",
   "execution_count": 53,
   "metadata": {},
   "outputs": [
    {
     "name": "stdout",
     "output_type": "stream",
     "text": [
      "3.1492080688476562 mean value, estimate of pi\n",
      "3.1492080688476562 mean value, estimate of pi\n",
      "3.1492080688476562 mean value, estimate of pi\n",
      "3.1492080688476562 mean value, estimate of pi\n",
      "3.1492080688476562 mean value, estimate of pi\n",
      "3.1492080688476562 mean value, estimate of pi\n",
      "3.1492080688476562 mean value, estimate of pi\n",
      "3.1492080688476562 mean value, estimate of pi\n",
      "3.1492080688476562 mean value, estimate of pi\n",
      "3.1492080688476562 mean value, estimate of pi\n",
      "3.1492080688476562 mean value, estimate of pi\n",
      "3.1492080688476562 mean value, estimate of pi\n",
      "3.1492080688476562 mean value, estimate of pi\n",
      "3.1492080688476562 mean value, estimate of pi\n",
      "3.1492080688476562 mean value, estimate of pi\n",
      "3.1492080688476562 mean value, estimate of pi\n",
      "3.1492080688476562 mean value, estimate of pi\n",
      "3.1492080688476562 mean value, estimate of pi\n",
      "3.1492080688476562 mean value, estimate of pi\n",
      "3.1492080688476562 mean value, estimate of pi\n"
     ]
    },
    {
     "data": {
      "image/png": "[encoded data removed]",
      "text/plain": [
       "<Figure size 432x288 with 1 Axes>"
      ]
     },
     "metadata": {},
     "output_type": "display_data"
    }
   ],
   "source": [
    "# bunching\n",
    "\n",
    "import random, pylab, math\n",
    "\n",
    "def markov_pi_all_data(N, delta):\n",
    "    x, y = 1.0, 1.0\n",
    "    data = []\n",
    "    for i in range(N):\n",
    "        del_x, del_y = random.uniform(-delta, delta), random.uniform(-delta, delta)\n",
    "        if abs(x + del_x) < 1.0 and abs(y + del_y) < 1.0:\n",
    "            x, y = x + del_x, y + del_y\n",
    "        if x ** 2 + y ** 2 < 1.0:\n",
    "            data.append(4.0)\n",
    "        else:\n",
    "            data.append(0.0)\n",
    "    return data\n",
    "\n",
    "poweroftwo = 20\n",
    "n_trials = 2 ** poweroftwo\n",
    "delta = 0.1\n",
    "data = markov_pi_all_data(n_trials, delta)\n",
    "errors  = []\n",
    "bunches = []\n",
    "for i in range(poweroftwo):\n",
    "    new_data = []\n",
    "    mean = 0.0\n",
    "    mean_sq = 0.0\n",
    "    N = len(data)\n",
    "    while data != []:\n",
    "        x = data.pop()\n",
    "        y = data.pop()\n",
    "        mean += x + y\n",
    "        mean_sq += x ** 2 + y ** 2\n",
    "        new_data.append((x + y) / 2.0 )\n",
    "    errors.append(math.sqrt(mean_sq / N - (mean / N) ** 2) / math.sqrt(N))\n",
    "    bunches.append(i)\n",
    "    data = new_data[:]\n",
    "    print (mean / float(N), 'mean value, estimate of pi')\n",
    "pylab.plot(bunches, errors, 'o')\n",
    "pylab.xlabel('iteration')\n",
    "pylab.ylabel('apparent error')\n",
    "pylab.title('Bunching: naive error vs iteration number')\n",
    "pylab.savefig('apparent_error_bunching.png')\n",
    "pylab.show()"
   ]
  }
 ],
 "metadata": {
  "kernelspec": {
   "display_name": "Python 3",
   "language": "python",
   "name": "python3"
  },
  "language_info": {
   "codemirror_mode": {
    "name": "ipython",
    "version": 3
   },
   "file_extension": ".py",
   "mimetype": "text/x-python",
   "name": "python",
   "nbconvert_exporter": "python",
   "pygments_lexer": "ipython3",
   "version": "3.6.5"
  }
 },
 "nbformat": 4,
 "nbformat_minor": 2
}
