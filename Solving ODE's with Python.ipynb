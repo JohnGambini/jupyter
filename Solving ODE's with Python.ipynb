{
 "cells": [
  {
   "cell_type": "markdown",
   "metadata": {},
   "source": [
    "## Solving First Order Linear ODE's\n",
    "\n",
    "Linear Differential Equations are differential equations of the form:\n",
    "<p/>\n",
    "<center>$\\displaystyle f(x) = A_0(t)\\cdot y(t) + A_1(t)\\cdot \\frac {dy}{dt} + A_2(t)\\cdot \\frac {d^2y}{dt^2} + ...$</center>\n",
    "<p/>\n",
    "These types of equations can be ordinary or partial and the solutions to a homogeneous set of linear differential equations forms a vector space. In this article we focus on first order linear ordinary differential equations or first order linear ODEs for short. What characterizes this subset of differential equations is that they are first of all, linear, they only extend to the first derivative, and they make use of only one independent variable. First order linear ODEs have the form:\n",
    "<p/>\n",
    "<center>$\\displaystyle f(x)=a(x)y′+b(x)y $</center>\n",
    "<p/>\n",
    "Although this is a common form for this type of equation, its usefull and neccessarry to put the equation into standard form which assumes a 1 for the coefficient of the y′ term. Dividing through by a(x) we get:\n",
    "<p/>\n",
    "<center>$\\displaystyle \\frac {f(x)}{a(x)} = y' + \\frac {b(x)}{a(x)}y$</center>\n",
    "<p/>\n",
    "Since f(x)/a(x) and b(x)/a(x) are really just polynomials we replace them with the terms q(x) and p(x) respecitvley. With a little bit of suffeling of terms we get the recognized standard form for first order linear ODEs:\n",
    "<p/>\n",
    "<center><b>Standard form for first order linear ODE's</b></center>\n",
    "<p/>\n",
    "<center>$ \\displaystyle y' + p(x)y = q(x) $</center>\n",
    "<p/>\n",
    "\n",
    "\n",
    "\n",
    "\n"
   ]
  },
  {
   "cell_type": "code",
   "execution_count": 2,
   "metadata": {},
   "outputs": [
    {
     "data": {
      "image/png": "[encoded data removed]",
      "text/plain": [
       "<matplotlib.figure.Figure at 0x8f25908>"
      ]
     },
     "metadata": {},
     "output_type": "display_data"
    }
   ],
   "source": [
    "import numpy as np\n",
    "from scipy.integrate import odeint\n",
    "import matplotlib.pyplot as plt\n",
    "\n",
    "# function that returns dy/dt\n",
    "def model(y,t):\n",
    "    k = 0.3\n",
    "    dydt = -k * y\n",
    "    return dydt\n",
    "\n",
    "# initial condition\n",
    "y0 = 5\n",
    "\n",
    "# time points\n",
    "t = np.linspace(0,20)\n",
    "\n",
    "# solve ODE\n",
    "y = odeint(model,y0,t)\n",
    "\n",
    "# plot results\n",
    "plt.plot(t,y)\n",
    "plt.xlabel('time')\n",
    "plt.ylabel('y(t)')\n",
    "plt.show()"
   ]
  }
 ],
 "metadata": {
  "kernelspec": {
   "display_name": "Python 3",
   "language": "python",
   "name": "python3"
  },
  "language_info": {
   "codemirror_mode": {
    "name": "ipython",
    "version": 3
   },
   "file_extension": ".py",
   "mimetype": "text/x-python",
   "name": "python",
   "nbconvert_exporter": "python",
   "pygments_lexer": "ipython3",
   "version": "3.6.5"
  }
 },
 "nbformat": 4,
 "nbformat_minor": 2
}
